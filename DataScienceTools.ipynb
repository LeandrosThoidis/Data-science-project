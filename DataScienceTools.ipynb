{
 "cells": [
  {
   "cell_type": "markdown",
   "id": "0e8caf81-9656-437e-a41b-d05794566896",
   "metadata": {},
   "source": [
    "# Data Science Tools and Ecosystem"
   ]
  },
  {
   "cell_type": "markdown",
   "id": "88515efd-3d73-4d41-9a79-15faae894ebd",
   "metadata": {},
   "source": [
    "In this notebook, Data Science Tools and Ecosystem are summarized."
   ]
  },
  {
   "cell_type": "markdown",
   "id": "2e565f13-b053-4907-94ff-f7bc59500ee1",
   "metadata": {},
   "source": [
    "<b>Objectives </b>\n",
    "\n",
    "- Data Science languages\n",
    "- Data Science libraries\n",
    "- Jupyter notebook use\n",
    "- arithmetic expressions"
   ]
  },
  {
   "cell_type": "markdown",
   "id": "e9158c45-d375-4c17-984b-fa542818f6c3",
   "metadata": {},
   "source": [
    "Some of the popular languages that Data Scientists use are:\n",
    "\n",
    "1. Python\n",
    "2. R\n",
    "3. SQL\n",
    "4. Java\n",
    "5. Julia\n"
   ]
  },
  {
   "cell_type": "markdown",
   "id": "fef746c2-0816-47cb-89d2-dc706b106b75",
   "metadata": {},
   "source": [
    "Some of the commonly used libraries used by Data Scientists include:\n",
    "1. Pandas\n",
    "2. NumPy\n",
    "3. Matplotlib\n",
    "4. Scikit-learn\n",
    "5. TensorFlow "
   ]
  },
  {
   "cell_type": "markdown",
   "id": "55b1ba02-e539-45bc-9bff-fdbe265e6ea9",
   "metadata": {},
   "source": [
    "|Data science tools|\n",
    "|--------------------------------------------|\n",
    "|Jupyter notebook|\n",
    "|RsStudio|\n",
    "|Apache|"
   ]
  },
  {
   "cell_type": "markdown",
   "id": "aa5ca9de-d906-430b-b135-8a8d522df0df",
   "metadata": {},
   "source": [
    "### Below are a few examples of evaluating arithmetic expressions in Python."
   ]
  },
  {
   "cell_type": "code",
   "execution_count": 2,
   "id": "5225d0be-2699-4206-a595-403f103966fa",
   "metadata": {},
   "outputs": [
    {
     "data": {
      "text/plain": [
       "17"
      ]
     },
     "execution_count": 2,
     "metadata": {},
     "output_type": "execute_result"
    }
   ],
   "source": [
    "#This a simple arithmetic expression to mutiply then add integers#\n",
    "(3*4)+5"
   ]
  },
  {
   "cell_type": "code",
   "execution_count": 3,
   "id": "2d3de8bb-a59c-4ceb-9146-484ec7fa27c4",
   "metadata": {},
   "outputs": [
    {
     "data": {
      "text/plain": [
       "3.3333333333333335"
      ]
     },
     "execution_count": 3,
     "metadata": {},
     "output_type": "execute_result"
    }
   ],
   "source": [
    "#This will convert 200 minutes to hours by diving by 60\n",
    "minutes = 200\n",
    "hours = minutes / 60\n",
    "hours"
   ]
  },
  {
   "cell_type": "markdown",
   "id": "71dc5378-3c78-4ff9-8cf0-4915eb479c46",
   "metadata": {},
   "source": [
    "## Author\n",
    "Leandros Thoidhs"
   ]
  },
  {
   "cell_type": "code",
   "execution_count": null,
   "id": "66c7e19d-00e4-4652-b21b-4ba9938466b9",
   "metadata": {},
   "outputs": [],
   "source": []
  }
 ],
 "metadata": {
  "kernelspec": {
   "display_name": "Python 3 (ipykernel)",
   "language": "python",
   "name": "python3"
  },
  "language_info": {
   "codemirror_mode": {
    "name": "ipython",
    "version": 3
   },
   "file_extension": ".py",
   "mimetype": "text/x-python",
   "name": "python",
   "nbconvert_exporter": "python",
   "pygments_lexer": "ipython3",
   "version": "3.12.4"
  }
 },
 "nbformat": 4,
 "nbformat_minor": 5
}
